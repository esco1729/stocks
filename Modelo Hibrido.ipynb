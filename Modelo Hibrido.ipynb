{
 "cells": [
  {
   "cell_type": "markdown",
   "id": "670a7061-bd38-4e14-891b-c15d71e88c92",
   "metadata": {},
   "source": [
    "Este modelo híbrido de machine learning combina la capacidad predictiva de dos modelos diferentes."
   ]
  },
  {
   "cell_type": "code",
   "execution_count": 153,
   "id": "4169cc1e-1607-466a-97d3-6fc83a8eabd6",
   "metadata": {},
   "outputs": [],
   "source": [
    "import pandas as pd\n",
    "data = pd.read_csv(\"./apple_stock_data.csv\")"
   ]
  },
  {
   "cell_type": "code",
   "execution_count": 155,
   "id": "fed71fe6-d505-4ab1-b16c-1da89a028529",
   "metadata": {},
   "outputs": [
    {
     "data": {
      "text/plain": [
       "Index(['Date', 'Adj Close', 'Close', 'High', 'Low', 'Open', 'Volume'], dtype='object')"
      ]
     },
     "execution_count": 155,
     "metadata": {},
     "output_type": "execute_result"
    }
   ],
   "source": [
    "import seaborn as sns\n",
    "import matplotlib.pyplot as plt\n",
    "from datetime import datetime, date, time, timezone\n",
    "import datetime as dt\n",
    "data.columns"
   ]
  },
  {
   "cell_type": "code",
   "execution_count": 157,
   "id": "e59e4279-5c6c-453d-a518-df143fdb6428",
   "metadata": {},
   "outputs": [
    {
     "data": {
      "text/html": [
       "<div>\n",
       "<style scoped>\n",
       "    .dataframe tbody tr th:only-of-type {\n",
       "        vertical-align: middle;\n",
       "    }\n",
       "\n",
       "    .dataframe tbody tr th {\n",
       "        vertical-align: top;\n",
       "    }\n",
       "\n",
       "    .dataframe thead th {\n",
       "        text-align: right;\n",
       "    }\n",
       "</style>\n",
       "<table border=\"1\" class=\"dataframe\">\n",
       "  <thead>\n",
       "    <tr style=\"text-align: right;\">\n",
       "      <th></th>\n",
       "      <th>Adj Close</th>\n",
       "      <th>Close</th>\n",
       "      <th>High</th>\n",
       "      <th>Low</th>\n",
       "      <th>Open</th>\n",
       "      <th>Volume</th>\n",
       "    </tr>\n",
       "  </thead>\n",
       "  <tbody>\n",
       "    <tr>\n",
       "      <th>count</th>\n",
       "      <td>252.000000</td>\n",
       "      <td>252.000000</td>\n",
       "      <td>252.000000</td>\n",
       "      <td>252.000000</td>\n",
       "      <td>252.000000</td>\n",
       "      <td>2.520000e+02</td>\n",
       "    </tr>\n",
       "    <tr>\n",
       "      <th>mean</th>\n",
       "      <td>199.088202</td>\n",
       "      <td>199.454286</td>\n",
       "      <td>201.093056</td>\n",
       "      <td>197.608373</td>\n",
       "      <td>199.316032</td>\n",
       "      <td>5.832214e+07</td>\n",
       "    </tr>\n",
       "    <tr>\n",
       "      <th>std</th>\n",
       "      <td>21.511933</td>\n",
       "      <td>21.321567</td>\n",
       "      <td>21.571427</td>\n",
       "      <td>20.963034</td>\n",
       "      <td>21.365476</td>\n",
       "      <td>3.025771e+07</td>\n",
       "    </tr>\n",
       "    <tr>\n",
       "      <th>min</th>\n",
       "      <td>164.585999</td>\n",
       "      <td>165.000000</td>\n",
       "      <td>166.399994</td>\n",
       "      <td>164.080002</td>\n",
       "      <td>165.350006</td>\n",
       "      <td>2.404830e+07</td>\n",
       "    </tr>\n",
       "    <tr>\n",
       "      <th>25%</th>\n",
       "      <td>182.254063</td>\n",
       "      <td>182.852501</td>\n",
       "      <td>184.617504</td>\n",
       "      <td>181.487499</td>\n",
       "      <td>182.777504</td>\n",
       "      <td>4.278855e+07</td>\n",
       "    </tr>\n",
       "    <tr>\n",
       "      <th>50%</th>\n",
       "      <td>192.370026</td>\n",
       "      <td>193.084999</td>\n",
       "      <td>194.399994</td>\n",
       "      <td>191.724998</td>\n",
       "      <td>192.989998</td>\n",
       "      <td>5.174865e+07</td>\n",
       "    </tr>\n",
       "    <tr>\n",
       "      <th>75%</th>\n",
       "      <td>221.697502</td>\n",
       "      <td>221.697502</td>\n",
       "      <td>224.149994</td>\n",
       "      <td>219.717499</td>\n",
       "      <td>221.635002</td>\n",
       "      <td>6.497460e+07</td>\n",
       "    </tr>\n",
       "    <tr>\n",
       "      <th>max</th>\n",
       "      <td>236.479996</td>\n",
       "      <td>236.479996</td>\n",
       "      <td>237.490005</td>\n",
       "      <td>234.449997</td>\n",
       "      <td>236.479996</td>\n",
       "      <td>3.186799e+08</td>\n",
       "    </tr>\n",
       "  </tbody>\n",
       "</table>\n",
       "</div>"
      ],
      "text/plain": [
       "        Adj Close       Close        High         Low        Open  \\\n",
       "count  252.000000  252.000000  252.000000  252.000000  252.000000   \n",
       "mean   199.088202  199.454286  201.093056  197.608373  199.316032   \n",
       "std     21.511933   21.321567   21.571427   20.963034   21.365476   \n",
       "min    164.585999  165.000000  166.399994  164.080002  165.350006   \n",
       "25%    182.254063  182.852501  184.617504  181.487499  182.777504   \n",
       "50%    192.370026  193.084999  194.399994  191.724998  192.989998   \n",
       "75%    221.697502  221.697502  224.149994  219.717499  221.635002   \n",
       "max    236.479996  236.479996  237.490005  234.449997  236.479996   \n",
       "\n",
       "             Volume  \n",
       "count  2.520000e+02  \n",
       "mean   5.832214e+07  \n",
       "std    3.025771e+07  \n",
       "min    2.404830e+07  \n",
       "25%    4.278855e+07  \n",
       "50%    5.174865e+07  \n",
       "75%    6.497460e+07  \n",
       "max    3.186799e+08  "
      ]
     },
     "execution_count": 157,
     "metadata": {},
     "output_type": "execute_result"
    }
   ],
   "source": [
    "data.describe()"
   ]
  },
  {
   "cell_type": "code",
   "execution_count": 159,
   "id": "77df239d-022c-4fd4-b242-a3163e2f20f3",
   "metadata": {},
   "outputs": [
    {
     "name": "stdout",
     "output_type": "stream",
     "text": [
      "<class 'pandas.core.frame.DataFrame'>\n",
      "RangeIndex: 252 entries, 0 to 251\n",
      "Data columns (total 7 columns):\n",
      " #   Column     Non-Null Count  Dtype  \n",
      "---  ------     --------------  -----  \n",
      " 0   Date       252 non-null    object \n",
      " 1   Adj Close  252 non-null    float64\n",
      " 2   Close      252 non-null    float64\n",
      " 3   High       252 non-null    float64\n",
      " 4   Low        252 non-null    float64\n",
      " 5   Open       252 non-null    float64\n",
      " 6   Volume     252 non-null    int64  \n",
      "dtypes: float64(5), int64(1), object(1)\n",
      "memory usage: 13.9+ KB\n"
     ]
    }
   ],
   "source": [
    "data.info()"
   ]
  },
  {
   "cell_type": "code",
   "execution_count": 161,
   "id": "c03b6f8b-9b8e-4507-9610-52ee8df23b4a",
   "metadata": {},
   "outputs": [],
   "source": [
    "data[\"Date\"] = pd.to_datetime(data[\"Date\"])\n",
    "data.set_index(\"Date\",inplace=True)\n",
    "data=data[[\"Close\"]]"
   ]
  },
  {
   "cell_type": "code",
   "execution_count": 197,
   "id": "3028dee2-8902-42ab-a2f9-bc93c1248d9a",
   "metadata": {},
   "outputs": [
    {
     "data": {
      "text/plain": [
       "<Axes: xlabel='Close', ylabel='Count'>"
      ]
     },
     "execution_count": 197,
     "metadata": {},
     "output_type": "execute_result"
    },
    {
     "data": {
      "image/png": "[encoded data removed]",
      "text/plain": [
       "<Figure size 640x480 with 1 Axes>"
      ]
     },
     "metadata": {},
     "output_type": "display_data"
    }
   ],
   "source": [
    "sns.histplot(x=data[\"Close\"],bins=50, element=\"step\")"
   ]
  },
  {
   "cell_type": "code",
   "execution_count": 223,
   "id": "b8334e29-b280-4b29-a89b-1a8cedfd113d",
   "metadata": {},
   "outputs": [
    {
     "data": {
      "text/plain": [
       "DatetimeIndex(['2023-11-02 00:00:00+00:00', '2023-11-03 00:00:00+00:00',\n",
       "               '2023-11-06 00:00:00+00:00', '2023-11-07 00:00:00+00:00',\n",
       "               '2023-11-08 00:00:00+00:00', '2023-11-09 00:00:00+00:00',\n",
       "               '2023-11-10 00:00:00+00:00', '2023-11-13 00:00:00+00:00',\n",
       "               '2023-11-14 00:00:00+00:00', '2023-11-15 00:00:00+00:00',\n",
       "               ...\n",
       "               '2024-10-21 00:00:00+00:00', '2024-10-22 00:00:00+00:00',\n",
       "               '2024-10-23 00:00:00+00:00', '2024-10-24 00:00:00+00:00',\n",
       "               '2024-10-25 00:00:00+00:00', '2024-10-28 00:00:00+00:00',\n",
       "               '2024-10-29 00:00:00+00:00', '2024-10-30 00:00:00+00:00',\n",
       "               '2024-10-31 00:00:00+00:00', '2024-11-01 00:00:00+00:00'],\n",
       "              dtype='datetime64[ns, UTC]', name='Date', length=252, freq=None)"
      ]
     },
     "execution_count": 223,
     "metadata": {},
     "output_type": "execute_result"
    }
   ],
   "source": [
    "data.index"
   ]
  },
  {
   "cell_type": "code",
   "execution_count": 249,
   "id": "42269c11-3f17-442c-a5a5-a1a392e130d6",
   "metadata": {},
   "outputs": [
    {
     "data": {
      "text/plain": [
       "<Axes: xlabel='Date', ylabel='Close'>"
      ]
     },
     "execution_count": 249,
     "metadata": {},
     "output_type": "execute_result"
    },
    {
     "data": {
      "image/png": "[encoded data removed]",
      "text/plain": [
       "<Figure size 640x480 with 1 Axes>"
      ]
     },
     "metadata": {},
     "output_type": "display_data"
    }
   ],
   "source": [
    "sns.lineplot(x=data.index,y=data[\"Close\"])"
   ]
  },
  {
   "cell_type": "markdown",
   "id": "11cf99c3-22a5-4c83-9c5c-50ce07fea104",
   "metadata": {},
   "source": [
    "## Modelos"
   ]
  },
  {
   "cell_type": "markdown",
   "id": "3f397275-fb2f-4299-a75d-fbbb35271cb3",
   "metadata": {},
   "source": [
    "- LSTM: captura secuencialmente los patrones y se actualiza a corto plazo.\n",
    "- Regresión lineal: relaciones lineales en tendencias a largo plazo."
   ]
  },
  {
   "cell_type": "code",
   "execution_count": 253,
   "id": "c40c17e4-270e-42c4-af90-7cf2ef5033c3",
   "metadata": {},
   "outputs": [],
   "source": [
    "from sklearn.preprocessing import MinMaxScaler\n",
    "scaler=MinMaxScaler(feature_range=(0,1))\n",
    "data['Close'] = scaler.fit_transform(data[['Close']])"
   ]
  },
  {
   "cell_type": "code",
   "execution_count": 286,
   "id": "088f4338-7366-440c-b675-b6a3742fc65d",
   "metadata": {
    "jp-MarkdownHeadingCollapsed": true
   },
   "outputs": [
    {
     "name": "stderr",
     "output_type": "stream",
     "text": [
      "C:\\Users\\esco1\\AppData\\Local\\Temp\\ipykernel_1712\\1895808003.py:1: DeprecationWarning: Importing display from IPython.core.display is deprecated since IPython 7.14, please import from IPython display\n",
      "  from IPython.core.display import display, HTML\n"
     ]
    },
    {
     "data": {
      "text/html": [
       "\n",
       "<div style=\"font-family: -apple-system, BlinkMacSystemFont, 'Segoe UI', Roboto, sans-serif;\">\n",
       "    <h1 style=\"color: #2962ff; border-bottom: 2px solid #2962ff; padding-bottom: 8px;\">\n",
       "        Normalización con MinMaxScaler 📊\n",
       "    </h1>\n",
       "\n",
       "    <div style=\"background-color: #f5f5f5; padding: 20px; border-radius: 8px; margin: 15px 0;\">\n",
       "        <p style=\"font-size: 1.1em; font-weight: 500; color: #333; margin-top: 0;\">Usamos MinMaxScaler en un rango de [0,1] para:</p>\n",
       "        <ul style=\"list-style-type: none; padding-left: 0; margin: 0;\">\n",
       "            <li style=\"margin: 8px 0; padding-left: 20px; position: relative;\">\n",
       "                <span style=\"position: absolute; left: 0; color: #2962ff;\">▹</span>\n",
       "                Prevenir el gradiente vanishing/exploding\n",
       "            </li>\n",
       "            <li style=\"margin: 8px 0; padding-left: 20px; position: relative;\">\n",
       "                <span style=\"position: absolute; left: 0; color: #2962ff;\">▹</span>\n",
       "                Las funciones sigmoides y tanh de activación trabajan mejor en este rango\n",
       "            </li>\n",
       "            <li style=\"margin: 8px 0; padding-left: 20px; position: relative;\">\n",
       "                <span style=\"position: absolute; left: 0; color: #2962ff;\">▹</span>\n",
       "                Para los precios de stocks, las relaciones relativas entre los valores es mucho más importante que sus valores absolutos\n",
       "                <ul style=\"list-style-type: none; padding-left: 20px; margin-top: 5px;\">\n",
       "                    <li style=\"margin: 5px 0; padding-left: 20px; position: relative;\">\n",
       "                        <span style=\"position: absolute; left: 0; color: #666;\">→</span>\n",
       "                        MinMaxScaler preserva estas relaciones relativas dentro de cada característica\n",
       "                    </li>\n",
       "                </ul>\n",
       "            </li>\n",
       "        </ul>\n",
       "    </div>\n",
       "\n",
       "    <h2 style=\"color: #333; margin-top: 25px;\">Comparación con otros scalers:</h2>\n",
       "    <div style=\"display: grid; gap: 15px; margin-top: 15px;\">\n",
       "        <div style=\"background-color: white; border: 1px solid #e0e0e0; border-radius: 8px; padding: 15px;\">\n",
       "            <h3 style=\"color: #2962ff; margin: 0 0 10px 0;\">StandardScaler</h3>\n",
       "            <ul style=\"list-style-type: none; padding-left: 0; margin: 0;\">\n",
       "                <li style=\"margin: 5px 0; padding-left: 15px; position: relative;\">\n",
       "                    <span style=\"position: absolute; left: 0; color: #666;\">•</span>\n",
       "                    Centra los datos alrededor de la media (μ=0) con desviación estándar (σ=1)\n",
       "                </li>\n",
       "                <li style=\"margin: 5px 0; padding-left: 15px; position: relative;\">\n",
       "                    <span style=\"position: absolute; left: 0; color: #666;\">•</span>\n",
       "                    Puede producir valores negativos (no ideal para precios)\n",
       "                </li>\n",
       "                <li style=\"margin: 5px 0; padding-left: 15px; position: relative;\">\n",
       "                    <span style=\"position: absolute; left: 0; color: #666;\">•</span>\n",
       "                    Mejor cuando los datos siguen una distribución normal\n",
       "                </li>\n",
       "            </ul>\n",
       "        </div>\n",
       "\n",
       "        <div style=\"background-color: white; border: 1px solid #e0e0e0; border-radius: 8px; padding: 15px;\">\n",
       "            <h3 style=\"color: #2962ff; margin: 0 0 10px 0;\">RobustScaler</h3>\n",
       "            <ul style=\"list-style-type: none; padding-left: 0; margin: 0;\">\n",
       "                <li style=\"margin: 5px 0; padding-left: 15px; position: relative;\">\n",
       "                    <span style=\"position: absolute; left: 0; color: #666;\">•</span>\n",
       "                    Diseñado para datos con outliers\n",
       "                </li>\n",
       "                <li style=\"margin: 5px 0; padding-left: 15px; position: relative;\">\n",
       "                    <span style=\"position: absolute; left: 0; color: #666;\">•</span>\n",
       "                    En series temporales financieras, los \"outliers\" suelen ser señales importantes\n",
       "                </li>\n",
       "            </ul>\n",
       "        </div>\n",
       "\n",
       "        <div style=\"background-color: white; border: 1px solid #e0e0e0; border-radius: 8px; padding: 15px;\">\n",
       "            <h3 style=\"color: #2962ff; margin: 0 0 10px 0;\">MaxAbsScaler</h3>\n",
       "            <ul style=\"list-style-type: none; padding-left: 0; margin: 0;\">\n",
       "                <li style=\"margin: 5px 0; padding-left: 15px; position: relative;\">\n",
       "                    <span style=\"position: absolute; left: 0; color: #666;\">•</span>\n",
       "                    Similar a MinMaxScaler pero escala por el valor absoluto máximo\n",
       "                </li>\n",
       "                <li style=\"margin: 5px 0; padding-left: 15px; position: relative;\">\n",
       "                    <span style=\"position: absolute; left: 0; color: #666;\">•</span>\n",
       "                    No desplaza/centra los datos\n",
       "                </li>\n",
       "            </ul>\n",
       "        </div>\n",
       "    </div>\n",
       "</div>\n"
      ],
      "text/plain": [
       "<IPython.core.display.HTML object>"
      ]
     },
     "metadata": {},
     "output_type": "display_data"
    }
   ],
   "source": [
    "from IPython.core.display import display, HTML\n",
    "\n",
    "html_content = '''\n",
    "<div style=\"font-family: -apple-system, BlinkMacSystemFont, 'Segoe UI', Roboto, sans-serif;\">\n",
    "    <h1 style=\"color: #2962ff; border-bottom: 2px solid #2962ff; padding-bottom: 8px;\">\n",
    "        Normalización con MinMaxScaler 📊\n",
    "    </h1>\n",
    "\n",
    "    <div style=\"background-color: #f5f5f5; padding: 20px; border-radius: 8px; margin: 15px 0;\">\n",
    "        <p style=\"font-size: 1.1em; font-weight: 500; color: #333; margin-top: 0;\">Usamos MinMaxScaler en un rango de [0,1] para:</p>\n",
    "        <ul style=\"list-style-type: none; padding-left: 0; margin: 0;\">\n",
    "            <li style=\"margin: 8px 0; padding-left: 20px; position: relative;\">\n",
    "                <span style=\"position: absolute; left: 0; color: #2962ff;\">▹</span>\n",
    "                Prevenir el gradiente vanishing/exploding\n",
    "            </li>\n",
    "            <li style=\"margin: 8px 0; padding-left: 20px; position: relative;\">\n",
    "                <span style=\"position: absolute; left: 0; color: #2962ff;\">▹</span>\n",
    "                Las funciones sigmoides y tanh de activación trabajan mejor en este rango\n",
    "            </li>\n",
    "            <li style=\"margin: 8px 0; padding-left: 20px; position: relative;\">\n",
    "                <span style=\"position: absolute; left: 0; color: #2962ff;\">▹</span>\n",
    "                Para los precios de stocks, las relaciones relativas entre los valores es mucho más importante que sus valores absolutos\n",
    "                <ul style=\"list-style-type: none; padding-left: 20px; margin-top: 5px;\">\n",
    "                    <li style=\"margin: 5px 0; padding-left: 20px; position: relative;\">\n",
    "                        <span style=\"position: absolute; left: 0; color: #666;\">→</span>\n",
    "                        MinMaxScaler preserva estas relaciones relativas dentro de cada característica\n",
    "                    </li>\n",
    "                </ul>\n",
    "            </li>\n",
    "        </ul>\n",
    "    </div>\n",
    "\n",
    "    <h2 style=\"color: #333; margin-top: 25px;\">Comparación con otros scalers:</h2>\n",
    "    <div style=\"display: grid; gap: 15px; margin-top: 15px;\">\n",
    "        <div style=\"background-color: white; border: 1px solid #e0e0e0; border-radius: 8px; padding: 15px;\">\n",
    "            <h3 style=\"color: #2962ff; margin: 0 0 10px 0;\">StandardScaler</h3>\n",
    "            <ul style=\"list-style-type: none; padding-left: 0; margin: 0;\">\n",
    "                <li style=\"margin: 5px 0; padding-left: 15px; position: relative;\">\n",
    "                    <span style=\"position: absolute; left: 0; color: #666;\">•</span>\n",
    "                    Centra los datos alrededor de la media (μ=0) con desviación estándar (σ=1)\n",
    "                </li>\n",
    "                <li style=\"margin: 5px 0; padding-left: 15px; position: relative;\">\n",
    "                    <span style=\"position: absolute; left: 0; color: #666;\">•</span>\n",
    "                    Puede producir valores negativos (no ideal para precios)\n",
    "                </li>\n",
    "                <li style=\"margin: 5px 0; padding-left: 15px; position: relative;\">\n",
    "                    <span style=\"position: absolute; left: 0; color: #666;\">•</span>\n",
    "                    Mejor cuando los datos siguen una distribución normal\n",
    "                </li>\n",
    "            </ul>\n",
    "        </div>\n",
    "\n",
    "        <div style=\"background-color: white; border: 1px solid #e0e0e0; border-radius: 8px; padding: 15px;\">\n",
    "            <h3 style=\"color: #2962ff; margin: 0 0 10px 0;\">RobustScaler</h3>\n",
    "            <ul style=\"list-style-type: none; padding-left: 0; margin: 0;\">\n",
    "                <li style=\"margin: 5px 0; padding-left: 15px; position: relative;\">\n",
    "                    <span style=\"position: absolute; left: 0; color: #666;\">•</span>\n",
    "                    Diseñado para datos con outliers\n",
    "                </li>\n",
    "                <li style=\"margin: 5px 0; padding-left: 15px; position: relative;\">\n",
    "                    <span style=\"position: absolute; left: 0; color: #666;\">•</span>\n",
    "                    En series temporales financieras, los \"outliers\" suelen ser señales importantes\n",
    "                </li>\n",
    "            </ul>\n",
    "        </div>\n",
    "\n",
    "        <div style=\"background-color: white; border: 1px solid #e0e0e0; border-radius: 8px; padding: 15px;\">\n",
    "            <h3 style=\"color: #2962ff; margin: 0 0 10px 0;\">MaxAbsScaler</h3>\n",
    "            <ul style=\"list-style-type: none; padding-left: 0; margin: 0;\">\n",
    "                <li style=\"margin: 5px 0; padding-left: 15px; position: relative;\">\n",
    "                    <span style=\"position: absolute; left: 0; color: #666;\">•</span>\n",
    "                    Similar a MinMaxScaler pero escala por el valor absoluto máximo\n",
    "                </li>\n",
    "                <li style=\"margin: 5px 0; padding-left: 15px; position: relative;\">\n",
    "                    <span style=\"position: absolute; left: 0; color: #666;\">•</span>\n",
    "                    No desplaza/centra los datos\n",
    "                </li>\n",
    "            </ul>\n",
    "        </div>\n",
    "    </div>\n",
    "</div>\n",
    "'''\n",
    "\n",
    "display(HTML(html_content))"
   ]
  },
  {
   "cell_type": "markdown",
   "id": "feffa9e9-1664-4328-b3c5-b5a5d7364e69",
   "metadata": {},
   "source": [
    "Usaremos secuencias de 30 días."
   ]
  },
  {
   "cell_type": "code",
   "execution_count": 292,
   "id": "e2e33947-0c97-4812-80c5-9e121482aa3e",
   "metadata": {},
   "outputs": [],
   "source": [
    "import numpy as np\n",
    "def create_sequences(data, seq_length=30):\n",
    "    X, y = [], []\n",
    "    for i in range(len(data) - seq_length):\n",
    "        X.append(data[i:i+seq_length])\n",
    "        y.append(data[i+seq_length])\n",
    "    return np.array(X), np.array(y)\n",
    "\n",
    "seq_length = 30\n",
    "X, y = create_sequences(data['Close'].values, seq_length)"
   ]
  },
  {
   "cell_type": "markdown",
   "id": "cfe7c0d0-9eca-4d81-b17a-bdea78a582ab",
   "metadata": {},
   "source": [
    "Para mantener el orden secuencial de los datos, declaramos shuffle=False"
   ]
  },
  {
   "cell_type": "code",
   "execution_count": 295,
   "id": "1320400e-739a-4244-9c19-b729131440e9",
   "metadata": {},
   "outputs": [],
   "source": [
    "from sklearn.model_selection import train_test_split"
   ]
  },
  {
   "cell_type": "code",
   "execution_count": 297,
   "id": "b4ff9ecd-188d-44fb-b689-b9c232862e48",
   "metadata": {},
   "outputs": [],
   "source": [
    "X_train, X_test, y_train, y_test = train_test_split(X, y, test_size=0.2, random_state=42, shuffle=False)"
   ]
  },
  {
   "cell_type": "markdown",
   "id": "70e9523e-b7eb-4d10-a58e-0456b9942e1e",
   "metadata": {},
   "source": [
    "# LSTM"
   ]
  },
  {
   "cell_type": "code",
   "execution_count": 302,
   "id": "99db21d3-ac0d-4a1a-8031-e89678f89105",
   "metadata": {},
   "outputs": [
    {
     "name": "stderr",
     "output_type": "stream",
     "text": [
      "C:\\Users\\esco1\\anaconda3\\Lib\\site-packages\\keras\\src\\layers\\rnn\\rnn.py:204: UserWarning: Do not pass an `input_shape`/`input_dim` argument to a layer. When using Sequential models, prefer using an `Input(shape)` object as the first layer in the model instead.\n",
      "  super().__init__(**kwargs)\n"
     ]
    }
   ],
   "source": [
    "from tensorflow.keras.models import Sequential\n",
    "from tensorflow.keras.layers import LSTM, Dense\n",
    "\n",
    "lstm_model = Sequential()\n",
    "lstm_model.add(LSTM(units=50, return_sequences=True, input_shape=(X_train.shape[1], 1)))\n",
    "lstm_model.add(LSTM(units=50))\n",
    "lstm_model.add(Dense(1)) # regresión"
   ]
  },
  {
   "cell_type": "code",
   "execution_count": 304,
   "id": "369649d5-8466-48bd-972d-07eb4498cf50",
   "metadata": {
    "scrolled": true
   },
   "outputs": [
    {
     "name": "stdout",
     "output_type": "stream",
     "text": [
      "Epoch 1/20\n",
      "\u001b[1m6/6\u001b[0m \u001b[32m━━━━━━━━━━━━━━━━━━━━\u001b[0m\u001b[37m\u001b[0m \u001b[1m3s\u001b[0m 21ms/step - loss: 0.2041\n",
      "Epoch 2/20\n",
      "\u001b[1m6/6\u001b[0m \u001b[32m━━━━━━━━━━━━━━━━━━━━\u001b[0m\u001b[37m\u001b[0m \u001b[1m0s\u001b[0m 18ms/step - loss: 0.0397\n",
      "Epoch 3/20\n",
      "\u001b[1m6/6\u001b[0m \u001b[32m━━━━━━━━━━━━━━━━━━━━\u001b[0m\u001b[37m\u001b[0m \u001b[1m0s\u001b[0m 17ms/step - loss: 0.0379\n",
      "Epoch 4/20\n",
      "\u001b[1m6/6\u001b[0m \u001b[32m━━━━━━━━━━━━━━━━━━━━\u001b[0m\u001b[37m\u001b[0m \u001b[1m0s\u001b[0m 18ms/step - loss: 0.0181\n",
      "Epoch 5/20\n",
      "\u001b[1m6/6\u001b[0m \u001b[32m━━━━━━━━━━━━━━━━━━━━\u001b[0m\u001b[37m\u001b[0m \u001b[1m0s\u001b[0m 17ms/step - loss: 0.0199\n",
      "Epoch 6/20\n",
      "\u001b[1m6/6\u001b[0m \u001b[32m━━━━━━━━━━━━━━━━━━━━\u001b[0m\u001b[37m\u001b[0m \u001b[1m0s\u001b[0m 18ms/step - loss: 0.0128\n",
      "Epoch 7/20\n",
      "\u001b[1m6/6\u001b[0m \u001b[32m━━━━━━━━━━━━━━━━━━━━\u001b[0m\u001b[37m\u001b[0m \u001b[1m0s\u001b[0m 18ms/step - loss: 0.0113\n",
      "Epoch 8/20\n",
      "\u001b[1m6/6\u001b[0m \u001b[32m━━━━━━━━━━━━━━━━━━━━\u001b[0m\u001b[37m\u001b[0m \u001b[1m0s\u001b[0m 19ms/step - loss: 0.0121\n",
      "Epoch 9/20\n",
      "\u001b[1m6/6\u001b[0m \u001b[32m━━━━━━━━━━━━━━━━━━━━\u001b[0m\u001b[37m\u001b[0m \u001b[1m0s\u001b[0m 19ms/step - loss: 0.0091\n",
      "Epoch 10/20\n",
      "\u001b[1m6/6\u001b[0m \u001b[32m━━━━━━━━━━━━━━━━━━━━\u001b[0m\u001b[37m\u001b[0m \u001b[1m0s\u001b[0m 18ms/step - loss: 0.0085\n",
      "Epoch 11/20\n",
      "\u001b[1m6/6\u001b[0m \u001b[32m━━━━━━━━━━━━━━━━━━━━\u001b[0m\u001b[37m\u001b[0m \u001b[1m0s\u001b[0m 18ms/step - loss: 0.0087\n",
      "Epoch 12/20\n",
      "\u001b[1m6/6\u001b[0m \u001b[32m━━━━━━━━━━━━━━━━━━━━\u001b[0m\u001b[37m\u001b[0m \u001b[1m0s\u001b[0m 17ms/step - loss: 0.0096\n",
      "Epoch 13/20\n",
      "\u001b[1m6/6\u001b[0m \u001b[32m━━━━━━━━━━━━━━━━━━━━\u001b[0m\u001b[37m\u001b[0m \u001b[1m0s\u001b[0m 18ms/step - loss: 0.0089\n",
      "Epoch 14/20\n",
      "\u001b[1m6/6\u001b[0m \u001b[32m━━━━━━━━━━━━━━━━━━━━\u001b[0m\u001b[37m\u001b[0m \u001b[1m0s\u001b[0m 18ms/step - loss: 0.0086\n",
      "Epoch 15/20\n",
      "\u001b[1m6/6\u001b[0m \u001b[32m━━━━━━━━━━━━━━━━━━━━\u001b[0m\u001b[37m\u001b[0m \u001b[1m0s\u001b[0m 21ms/step - loss: 0.0078\n",
      "Epoch 16/20\n",
      "\u001b[1m6/6\u001b[0m \u001b[32m━━━━━━━━━━━━━━━━━━━━\u001b[0m\u001b[37m\u001b[0m \u001b[1m0s\u001b[0m 18ms/step - loss: 0.0086\n",
      "Epoch 17/20\n",
      "\u001b[1m6/6\u001b[0m \u001b[32m━━━━━━━━━━━━━━━━━━━━\u001b[0m\u001b[37m\u001b[0m \u001b[1m0s\u001b[0m 19ms/step - loss: 0.0078\n",
      "Epoch 18/20\n",
      "\u001b[1m6/6\u001b[0m \u001b[32m━━━━━━━━━━━━━━━━━━━━\u001b[0m\u001b[37m\u001b[0m \u001b[1m0s\u001b[0m 18ms/step - loss: 0.0077\n",
      "Epoch 19/20\n",
      "\u001b[1m6/6\u001b[0m \u001b[32m━━━━━━━━━━━━━━━━━━━━\u001b[0m\u001b[37m\u001b[0m \u001b[1m0s\u001b[0m 18ms/step - loss: 0.0069\n",
      "Epoch 20/20\n",
      "\u001b[1m6/6\u001b[0m \u001b[32m━━━━━━━━━━━━━━━━━━━━\u001b[0m\u001b[37m\u001b[0m \u001b[1m0s\u001b[0m 17ms/step - loss: 0.0067\n"
     ]
    },
    {
     "data": {
      "text/plain": [
       "<keras.src.callbacks.history.History at 0x1ec0c6e0320>"
      ]
     },
     "execution_count": 304,
     "metadata": {},
     "output_type": "execute_result"
    }
   ],
   "source": [
    "lstm_model.compile(optimizer='adam', loss='mean_squared_error')\n",
    "lstm_model.fit(X_train, y_train, epochs=20, batch_size=32)"
   ]
  },
  {
   "cell_type": "markdown",
   "id": "1aeb881d-8bfc-47af-aa7b-af1358a3feaf",
   "metadata": {},
   "source": [
    "# Regresión lineal"
   ]
  },
  {
   "cell_type": "markdown",
   "id": "626a1fa5-3b55-4e13-b047-4b1d7eff822e",
   "metadata": {},
   "source": [
    "Usamos 3 días (pasados) para:\n",
    "- Incluir contexto histórico a corto plazo\n",
    "- Sin excedernos para evitar el ruido\n",
    "- Los mercados financieros exhiben patrones a corto plazo"
   ]
  },
  {
   "cell_type": "code",
   "execution_count": 412,
   "id": "4ff2ed47-24a4-451b-a910-73e841a7f3ca",
   "metadata": {},
   "outputs": [],
   "source": [
    "data['Lag_1'] = data['Close'].shift(1)\n",
    "data['Lag_2'] = data['Close'].shift(2)\n",
    "data['Lag_3'] = data['Close'].shift(3)\n",
    "data = data.dropna()"
   ]
  },
  {
   "cell_type": "code",
   "execution_count": 414,
   "id": "f02c9c17-4a66-4f68-ae76-d08b110a6f87",
   "metadata": {},
   "outputs": [],
   "source": [
    "X_lin = data[['Lag_1', 'Lag_2', 'Lag_3']]\n",
    "y_lin = data['Close']"
   ]
  },
  {
   "cell_type": "code",
   "execution_count": 416,
   "id": "59604c9c-ec47-4f07-a504-76f9d80d83f4",
   "metadata": {},
   "outputs": [],
   "source": [
    "train_size = int(len(data) * 0.8)\n",
    "train_data = data[:train_size]\n",
    "test_data = data[train_size:]"
   ]
  },
  {
   "cell_type": "code",
   "execution_count": 458,
   "id": "79e712cd-8d23-421c-9038-804c28e1f4e8",
   "metadata": {},
   "outputs": [],
   "source": [
    "start_idx = 30  # Same as LSTM sequence length\n",
    "X_train_lin = train_data[['Lag_1', 'Lag_2', 'Lag_3']][start_idx:]\n",
    "y_train_lin = train_data['Close'][start_idx:]\n",
    "X_test_lin = test_data[['Lag_1', 'Lag_2', 'Lag_3']][start_idx:]\n",
    "y_test_lin = test_data['Close'][start_idx:]\n"
   ]
  },
  {
   "cell_type": "code",
   "execution_count": 460,
   "id": "b3ac0320-1171-4546-8b1b-f4f1d5d09d85",
   "metadata": {},
   "outputs": [
    {
     "data": {
      "text/html": [
       "<style>#sk-container-id-7 {\n",
       "  /* Definition of color scheme common for light and dark mode */\n",
       "  --sklearn-color-text: black;\n",
       "  --sklearn-color-line: gray;\n",
       "  /* Definition of color scheme for unfitted estimators */\n",
       "  --sklearn-color-unfitted-level-0: #fff5e6;\n",
       "  --sklearn-color-unfitted-level-1: #f6e4d2;\n",
       "  --sklearn-color-unfitted-level-2: #ffe0b3;\n",
       "  --sklearn-color-unfitted-level-3: chocolate;\n",
       "  /* Definition of color scheme for fitted estimators */\n",
       "  --sklearn-color-fitted-level-0: #f0f8ff;\n",
       "  --sklearn-color-fitted-level-1: #d4ebff;\n",
       "  --sklearn-color-fitted-level-2: #b3dbfd;\n",
       "  --sklearn-color-fitted-level-3: cornflowerblue;\n",
       "\n",
       "  /* Specific color for light theme */\n",
       "  --sklearn-color-text-on-default-background: var(--sg-text-color, var(--theme-code-foreground, var(--jp-content-font-color1, black)));\n",
       "  --sklearn-color-background: var(--sg-background-color, var(--theme-background, var(--jp-layout-color0, white)));\n",
       "  --sklearn-color-border-box: var(--sg-text-color, var(--theme-code-foreground, var(--jp-content-font-color1, black)));\n",
       "  --sklearn-color-icon: #696969;\n",
       "\n",
       "  @media (prefers-color-scheme: dark) {\n",
       "    /* Redefinition of color scheme for dark theme */\n",
       "    --sklearn-color-text-on-default-background: var(--sg-text-color, var(--theme-code-foreground, var(--jp-content-font-color1, white)));\n",
       "    --sklearn-color-background: var(--sg-background-color, var(--theme-background, var(--jp-layout-color0, #111)));\n",
       "    --sklearn-color-border-box: var(--sg-text-color, var(--theme-code-foreground, var(--jp-content-font-color1, white)));\n",
       "    --sklearn-color-icon: #878787;\n",
       "  }\n",
       "}\n",
       "\n",
       "#sk-container-id-7 {\n",
       "  color: var(--sklearn-color-text);\n",
       "}\n",
       "\n",
       "#sk-container-id-7 pre {\n",
       "  padding: 0;\n",
       "}\n",
       "\n",
       "#sk-container-id-7 input.sk-hidden--visually {\n",
       "  border: 0;\n",
       "  clip: rect(1px 1px 1px 1px);\n",
       "  clip: rect(1px, 1px, 1px, 1px);\n",
       "  height: 1px;\n",
       "  margin: -1px;\n",
       "  overflow: hidden;\n",
       "  padding: 0;\n",
       "  position: absolute;\n",
       "  width: 1px;\n",
       "}\n",
       "\n",
       "#sk-container-id-7 div.sk-dashed-wrapped {\n",
       "  border: 1px dashed var(--sklearn-color-line);\n",
       "  margin: 0 0.4em 0.5em 0.4em;\n",
       "  box-sizing: border-box;\n",
       "  padding-bottom: 0.4em;\n",
       "  background-color: var(--sklearn-color-background);\n",
       "}\n",
       "\n",
       "#sk-container-id-7 div.sk-container {\n",
       "  /* jupyter's `normalize.less` sets `[hidden] { display: none; }`\n",
       "     but bootstrap.min.css set `[hidden] { display: none !important; }`\n",
       "     so we also need the `!important` here to be able to override the\n",
       "     default hidden behavior on the sphinx rendered scikit-learn.org.\n",
       "     See: https://github.com/scikit-learn/scikit-learn/issues/21755 */\n",
       "  display: inline-block !important;\n",
       "  position: relative;\n",
       "}\n",
       "\n",
       "#sk-container-id-7 div.sk-text-repr-fallback {\n",
       "  display: none;\n",
       "}\n",
       "\n",
       "div.sk-parallel-item,\n",
       "div.sk-serial,\n",
       "div.sk-item {\n",
       "  /* draw centered vertical line to link estimators */\n",
       "  background-image: linear-gradient(var(--sklearn-color-text-on-default-background), var(--sklearn-color-text-on-default-background));\n",
       "  background-size: 2px 100%;\n",
       "  background-repeat: no-repeat;\n",
       "  background-position: center center;\n",
       "}\n",
       "\n",
       "/* Parallel-specific style estimator block */\n",
       "\n",
       "#sk-container-id-7 div.sk-parallel-item::after {\n",
       "  content: \"\";\n",
       "  width: 100%;\n",
       "  border-bottom: 2px solid var(--sklearn-color-text-on-default-background);\n",
       "  flex-grow: 1;\n",
       "}\n",
       "\n",
       "#sk-container-id-7 div.sk-parallel {\n",
       "  display: flex;\n",
       "  align-items: stretch;\n",
       "  justify-content: center;\n",
       "  background-color: var(--sklearn-color-background);\n",
       "  position: relative;\n",
       "}\n",
       "\n",
       "#sk-container-id-7 div.sk-parallel-item {\n",
       "  display: flex;\n",
       "  flex-direction: column;\n",
       "}\n",
       "\n",
       "#sk-container-id-7 div.sk-parallel-item:first-child::after {\n",
       "  align-self: flex-end;\n",
       "  width: 50%;\n",
       "}\n",
       "\n",
       "#sk-container-id-7 div.sk-parallel-item:last-child::after {\n",
       "  align-self: flex-start;\n",
       "  width: 50%;\n",
       "}\n",
       "\n",
       "#sk-container-id-7 div.sk-parallel-item:only-child::after {\n",
       "  width: 0;\n",
       "}\n",
       "\n",
       "/* Serial-specific style estimator block */\n",
       "\n",
       "#sk-container-id-7 div.sk-serial {\n",
       "  display: flex;\n",
       "  flex-direction: column;\n",
       "  align-items: center;\n",
       "  background-color: var(--sklearn-color-background);\n",
       "  padding-right: 1em;\n",
       "  padding-left: 1em;\n",
       "}\n",
       "\n",
       "\n",
       "/* Toggleable style: style used for estimator/Pipeline/ColumnTransformer box that is\n",
       "clickable and can be expanded/collapsed.\n",
       "- Pipeline and ColumnTransformer use this feature and define the default style\n",
       "- Estimators will overwrite some part of the style using the `sk-estimator` class\n",
       "*/\n",
       "\n",
       "/* Pipeline and ColumnTransformer style (default) */\n",
       "\n",
       "#sk-container-id-7 div.sk-toggleable {\n",
       "  /* Default theme specific background. It is overwritten whether we have a\n",
       "  specific estimator or a Pipeline/ColumnTransformer */\n",
       "  background-color: var(--sklearn-color-background);\n",
       "}\n",
       "\n",
       "/* Toggleable label */\n",
       "#sk-container-id-7 label.sk-toggleable__label {\n",
       "  cursor: pointer;\n",
       "  display: block;\n",
       "  width: 100%;\n",
       "  margin-bottom: 0;\n",
       "  padding: 0.5em;\n",
       "  box-sizing: border-box;\n",
       "  text-align: center;\n",
       "}\n",
       "\n",
       "#sk-container-id-7 label.sk-toggleable__label-arrow:before {\n",
       "  /* Arrow on the left of the label */\n",
       "  content: \"▸\";\n",
       "  float: left;\n",
       "  margin-right: 0.25em;\n",
       "  color: var(--sklearn-color-icon);\n",
       "}\n",
       "\n",
       "#sk-container-id-7 label.sk-toggleable__label-arrow:hover:before {\n",
       "  color: var(--sklearn-color-text);\n",
       "}\n",
       "\n",
       "/* Toggleable content - dropdown */\n",
       "\n",
       "#sk-container-id-7 div.sk-toggleable__content {\n",
       "  max-height: 0;\n",
       "  max-width: 0;\n",
       "  overflow: hidden;\n",
       "  text-align: left;\n",
       "  /* unfitted */\n",
       "  background-color: var(--sklearn-color-unfitted-level-0);\n",
       "}\n",
       "\n",
       "#sk-container-id-7 div.sk-toggleable__content.fitted {\n",
       "  /* fitted */\n",
       "  background-color: var(--sklearn-color-fitted-level-0);\n",
       "}\n",
       "\n",
       "#sk-container-id-7 div.sk-toggleable__content pre {\n",
       "  margin: 0.2em;\n",
       "  border-radius: 0.25em;\n",
       "  color: var(--sklearn-color-text);\n",
       "  /* unfitted */\n",
       "  background-color: var(--sklearn-color-unfitted-level-0);\n",
       "}\n",
       "\n",
       "#sk-container-id-7 div.sk-toggleable__content.fitted pre {\n",
       "  /* unfitted */\n",
       "  background-color: var(--sklearn-color-fitted-level-0);\n",
       "}\n",
       "\n",
       "#sk-container-id-7 input.sk-toggleable__control:checked~div.sk-toggleable__content {\n",
       "  /* Expand drop-down */\n",
       "  max-height: 200px;\n",
       "  max-width: 100%;\n",
       "  overflow: auto;\n",
       "}\n",
       "\n",
       "#sk-container-id-7 input.sk-toggleable__control:checked~label.sk-toggleable__label-arrow:before {\n",
       "  content: \"▾\";\n",
       "}\n",
       "\n",
       "/* Pipeline/ColumnTransformer-specific style */\n",
       "\n",
       "#sk-container-id-7 div.sk-label input.sk-toggleable__control:checked~label.sk-toggleable__label {\n",
       "  color: var(--sklearn-color-text);\n",
       "  background-color: var(--sklearn-color-unfitted-level-2);\n",
       "}\n",
       "\n",
       "#sk-container-id-7 div.sk-label.fitted input.sk-toggleable__control:checked~label.sk-toggleable__label {\n",
       "  background-color: var(--sklearn-color-fitted-level-2);\n",
       "}\n",
       "\n",
       "/* Estimator-specific style */\n",
       "\n",
       "/* Colorize estimator box */\n",
       "#sk-container-id-7 div.sk-estimator input.sk-toggleable__control:checked~label.sk-toggleable__label {\n",
       "  /* unfitted */\n",
       "  background-color: var(--sklearn-color-unfitted-level-2);\n",
       "}\n",
       "\n",
       "#sk-container-id-7 div.sk-estimator.fitted input.sk-toggleable__control:checked~label.sk-toggleable__label {\n",
       "  /* fitted */\n",
       "  background-color: var(--sklearn-color-fitted-level-2);\n",
       "}\n",
       "\n",
       "#sk-container-id-7 div.sk-label label.sk-toggleable__label,\n",
       "#sk-container-id-7 div.sk-label label {\n",
       "  /* The background is the default theme color */\n",
       "  color: var(--sklearn-color-text-on-default-background);\n",
       "}\n",
       "\n",
       "/* On hover, darken the color of the background */\n",
       "#sk-container-id-7 div.sk-label:hover label.sk-toggleable__label {\n",
       "  color: var(--sklearn-color-text);\n",
       "  background-color: var(--sklearn-color-unfitted-level-2);\n",
       "}\n",
       "\n",
       "/* Label box, darken color on hover, fitted */\n",
       "#sk-container-id-7 div.sk-label.fitted:hover label.sk-toggleable__label.fitted {\n",
       "  color: var(--sklearn-color-text);\n",
       "  background-color: var(--sklearn-color-fitted-level-2);\n",
       "}\n",
       "\n",
       "/* Estimator label */\n",
       "\n",
       "#sk-container-id-7 div.sk-label label {\n",
       "  font-family: monospace;\n",
       "  font-weight: bold;\n",
       "  display: inline-block;\n",
       "  line-height: 1.2em;\n",
       "}\n",
       "\n",
       "#sk-container-id-7 div.sk-label-container {\n",
       "  text-align: center;\n",
       "}\n",
       "\n",
       "/* Estimator-specific */\n",
       "#sk-container-id-7 div.sk-estimator {\n",
       "  font-family: monospace;\n",
       "  border: 1px dotted var(--sklearn-color-border-box);\n",
       "  border-radius: 0.25em;\n",
       "  box-sizing: border-box;\n",
       "  margin-bottom: 0.5em;\n",
       "  /* unfitted */\n",
       "  background-color: var(--sklearn-color-unfitted-level-0);\n",
       "}\n",
       "\n",
       "#sk-container-id-7 div.sk-estimator.fitted {\n",
       "  /* fitted */\n",
       "  background-color: var(--sklearn-color-fitted-level-0);\n",
       "}\n",
       "\n",
       "/* on hover */\n",
       "#sk-container-id-7 div.sk-estimator:hover {\n",
       "  /* unfitted */\n",
       "  background-color: var(--sklearn-color-unfitted-level-2);\n",
       "}\n",
       "\n",
       "#sk-container-id-7 div.sk-estimator.fitted:hover {\n",
       "  /* fitted */\n",
       "  background-color: var(--sklearn-color-fitted-level-2);\n",
       "}\n",
       "\n",
       "/* Specification for estimator info (e.g. \"i\" and \"?\") */\n",
       "\n",
       "/* Common style for \"i\" and \"?\" */\n",
       "\n",
       ".sk-estimator-doc-link,\n",
       "a:link.sk-estimator-doc-link,\n",
       "a:visited.sk-estimator-doc-link {\n",
       "  float: right;\n",
       "  font-size: smaller;\n",
       "  line-height: 1em;\n",
       "  font-family: monospace;\n",
       "  background-color: var(--sklearn-color-background);\n",
       "  border-radius: 1em;\n",
       "  height: 1em;\n",
       "  width: 1em;\n",
       "  text-decoration: none !important;\n",
       "  margin-left: 1ex;\n",
       "  /* unfitted */\n",
       "  border: var(--sklearn-color-unfitted-level-1) 1pt solid;\n",
       "  color: var(--sklearn-color-unfitted-level-1);\n",
       "}\n",
       "\n",
       ".sk-estimator-doc-link.fitted,\n",
       "a:link.sk-estimator-doc-link.fitted,\n",
       "a:visited.sk-estimator-doc-link.fitted {\n",
       "  /* fitted */\n",
       "  border: var(--sklearn-color-fitted-level-1) 1pt solid;\n",
       "  color: var(--sklearn-color-fitted-level-1);\n",
       "}\n",
       "\n",
       "/* On hover */\n",
       "div.sk-estimator:hover .sk-estimator-doc-link:hover,\n",
       ".sk-estimator-doc-link:hover,\n",
       "div.sk-label-container:hover .sk-estimator-doc-link:hover,\n",
       ".sk-estimator-doc-link:hover {\n",
       "  /* unfitted */\n",
       "  background-color: var(--sklearn-color-unfitted-level-3);\n",
       "  color: var(--sklearn-color-background);\n",
       "  text-decoration: none;\n",
       "}\n",
       "\n",
       "div.sk-estimator.fitted:hover .sk-estimator-doc-link.fitted:hover,\n",
       ".sk-estimator-doc-link.fitted:hover,\n",
       "div.sk-label-container:hover .sk-estimator-doc-link.fitted:hover,\n",
       ".sk-estimator-doc-link.fitted:hover {\n",
       "  /* fitted */\n",
       "  background-color: var(--sklearn-color-fitted-level-3);\n",
       "  color: var(--sklearn-color-background);\n",
       "  text-decoration: none;\n",
       "}\n",
       "\n",
       "/* Span, style for the box shown on hovering the info icon */\n",
       ".sk-estimator-doc-link span {\n",
       "  display: none;\n",
       "  z-index: 9999;\n",
       "  position: relative;\n",
       "  font-weight: normal;\n",
       "  right: .2ex;\n",
       "  padding: .5ex;\n",
       "  margin: .5ex;\n",
       "  width: min-content;\n",
       "  min-width: 20ex;\n",
       "  max-width: 50ex;\n",
       "  color: var(--sklearn-color-text);\n",
       "  box-shadow: 2pt 2pt 4pt #999;\n",
       "  /* unfitted */\n",
       "  background: var(--sklearn-color-unfitted-level-0);\n",
       "  border: .5pt solid var(--sklearn-color-unfitted-level-3);\n",
       "}\n",
       "\n",
       ".sk-estimator-doc-link.fitted span {\n",
       "  /* fitted */\n",
       "  background: var(--sklearn-color-fitted-level-0);\n",
       "  border: var(--sklearn-color-fitted-level-3);\n",
       "}\n",
       "\n",
       ".sk-estimator-doc-link:hover span {\n",
       "  display: block;\n",
       "}\n",
       "\n",
       "/* \"?\"-specific style due to the `<a>` HTML tag */\n",
       "\n",
       "#sk-container-id-7 a.estimator_doc_link {\n",
       "  float: right;\n",
       "  font-size: 1rem;\n",
       "  line-height: 1em;\n",
       "  font-family: monospace;\n",
       "  background-color: var(--sklearn-color-background);\n",
       "  border-radius: 1rem;\n",
       "  height: 1rem;\n",
       "  width: 1rem;\n",
       "  text-decoration: none;\n",
       "  /* unfitted */\n",
       "  color: var(--sklearn-color-unfitted-level-1);\n",
       "  border: var(--sklearn-color-unfitted-level-1) 1pt solid;\n",
       "}\n",
       "\n",
       "#sk-container-id-7 a.estimator_doc_link.fitted {\n",
       "  /* fitted */\n",
       "  border: var(--sklearn-color-fitted-level-1) 1pt solid;\n",
       "  color: var(--sklearn-color-fitted-level-1);\n",
       "}\n",
       "\n",
       "/* On hover */\n",
       "#sk-container-id-7 a.estimator_doc_link:hover {\n",
       "  /* unfitted */\n",
       "  background-color: var(--sklearn-color-unfitted-level-3);\n",
       "  color: var(--sklearn-color-background);\n",
       "  text-decoration: none;\n",
       "}\n",
       "\n",
       "#sk-container-id-7 a.estimator_doc_link.fitted:hover {\n",
       "  /* fitted */\n",
       "  background-color: var(--sklearn-color-fitted-level-3);\n",
       "}\n",
       "</style><div id=\"sk-container-id-7\" class=\"sk-top-container\"><div class=\"sk-text-repr-fallback\"><pre>LinearRegression()</pre><b>In a Jupyter environment, please rerun this cell to show the HTML representation or trust the notebook. <br />On GitHub, the HTML representation is unable to render, please try loading this page with nbviewer.org.</b></div><div class=\"sk-container\" hidden><div class=\"sk-item\"><div class=\"sk-estimator fitted sk-toggleable\"><input class=\"sk-toggleable__control sk-hidden--visually\" id=\"sk-estimator-id-7\" type=\"checkbox\" checked><label for=\"sk-estimator-id-7\" class=\"sk-toggleable__label fitted sk-toggleable__label-arrow fitted\">&nbsp;&nbsp;LinearRegression<a class=\"sk-estimator-doc-link fitted\" rel=\"noreferrer\" target=\"_blank\" href=\"https://scikit-learn.org/1.5/modules/generated/sklearn.linear_model.LinearRegression.html\">?<span>Documentation for LinearRegression</span></a><span class=\"sk-estimator-doc-link fitted\">i<span>Fitted</span></span></label><div class=\"sk-toggleable__content fitted\"><pre>LinearRegression()</pre></div> </div></div></div></div>"
      ],
      "text/plain": [
       "LinearRegression()"
      ]
     },
     "execution_count": 460,
     "metadata": {},
     "output_type": "execute_result"
    }
   ],
   "source": [
    "from sklearn.linear_model import LinearRegression\n",
    "lin_model = LinearRegression()\n",
    "lin_model.fit(X_train_lin, y_train_lin)"
   ]
  },
  {
   "cell_type": "markdown",
   "id": "a52ebd98-8d4e-47ef-b2e2-417dd54a3502",
   "metadata": {},
   "source": [
    "## Predicciones LSTM"
   ]
  },
  {
   "cell_type": "code",
   "execution_count": 463,
   "id": "6498948a-7241-4161-9cd6-37e076b69ca8",
   "metadata": {},
   "outputs": [
    {
     "name": "stdout",
     "output_type": "stream",
     "text": [
      "\u001b[1m1/1\u001b[0m \u001b[32m━━━━━━━━━━━━━━━━━━━━\u001b[0m\u001b[37m\u001b[0m \u001b[1m0s\u001b[0m 45ms/step\n"
     ]
    }
   ],
   "source": [
    "lstm_predictions = lstm_model.predict(X_test_lstm.reshape(-1, seq_length, 1))\n",
    "lstm_predictions = scaler.inverse_transform(lstm_predictions)\n"
   ]
  },
  {
   "cell_type": "markdown",
   "id": "42ed2286-3244-4932-96d5-14033a60d246",
   "metadata": {},
   "source": [
    "## Predicciones lineales"
   ]
  },
  {
   "cell_type": "code",
   "execution_count": 465,
   "id": "e5bb3258-9329-4881-a577-96a08289ef5d",
   "metadata": {},
   "outputs": [],
   "source": [
    "lin_predictions = lin_model.predict(X_test_lin)\n",
    "lin_predictions = scaler.inverse_transform(lin_predictions.reshape(-1, 1))\n"
   ]
  },
  {
   "cell_type": "markdown",
   "id": "bbf288fc-23b4-4682-8c38-1b707e78d83f",
   "metadata": {},
   "source": [
    "## Predicciones híbridas"
   ]
  },
  {
   "cell_type": "code",
   "execution_count": 467,
   "id": "0309cca0-bd2a-4372-8016-20125e1c887c",
   "metadata": {},
   "outputs": [],
   "source": [
    "min_length = min(len(lstm_predictions), len(lin_predictions))\n",
    "lstm_predictions = lstm_predictions[:min_length]\n",
    "lin_predictions = lin_predictions[:min_length]\n"
   ]
  },
  {
   "cell_type": "code",
   "execution_count": 469,
   "id": "65bf1f99-7a1c-47d4-b23f-21f230132f71",
   "metadata": {},
   "outputs": [],
   "source": [
    "hybrid_predictions = (0.7 * lstm_predictions) + (0.3 * lin_predictions)"
   ]
  },
  {
   "cell_type": "markdown",
   "id": "adef8f87-2647-4817-8752-da30c34a57a5",
   "metadata": {},
   "source": [
    "# Predicciones para los próximos 10 días"
   ]
  },
  {
   "cell_type": "markdown",
   "id": "c7c49fec-ce36-4698-bfc0-39b9ec6746c9",
   "metadata": {},
   "source": [
    "### LSTM"
   ]
  },
  {
   "cell_type": "code",
   "execution_count": 474,
   "id": "0de7e0f4-6722-4287-a207-94f04753d6be",
   "metadata": {},
   "outputs": [
    {
     "name": "stdout",
     "output_type": "stream",
     "text": [
      "\u001b[1m1/1\u001b[0m \u001b[32m━━━━━━━━━━━━━━━━━━━━\u001b[0m\u001b[37m\u001b[0m \u001b[1m0s\u001b[0m 51ms/step\n",
      "\u001b[1m1/1\u001b[0m \u001b[32m━━━━━━━━━━━━━━━━━━━━\u001b[0m\u001b[37m\u001b[0m \u001b[1m0s\u001b[0m 28ms/step\n",
      "\u001b[1m1/1\u001b[0m \u001b[32m━━━━━━━━━━━━━━━━━━━━\u001b[0m\u001b[37m\u001b[0m \u001b[1m0s\u001b[0m 26ms/step\n",
      "\u001b[1m1/1\u001b[0m \u001b[32m━━━━━━━━━━━━━━━━━━━━\u001b[0m\u001b[37m\u001b[0m \u001b[1m0s\u001b[0m 28ms/step\n",
      "\u001b[1m1/1\u001b[0m \u001b[32m━━━━━━━━━━━━━━━━━━━━\u001b[0m\u001b[37m\u001b[0m \u001b[1m0s\u001b[0m 27ms/step\n",
      "\u001b[1m1/1\u001b[0m \u001b[32m━━━━━━━━━━━━━━━━━━━━\u001b[0m\u001b[37m\u001b[0m \u001b[1m0s\u001b[0m 32ms/step\n",
      "\u001b[1m1/1\u001b[0m \u001b[32m━━━━━━━━━━━━━━━━━━━━\u001b[0m\u001b[37m\u001b[0m \u001b[1m0s\u001b[0m 28ms/step\n",
      "\u001b[1m1/1\u001b[0m \u001b[32m━━━━━━━━━━━━━━━━━━━━\u001b[0m\u001b[37m\u001b[0m \u001b[1m0s\u001b[0m 29ms/step\n",
      "\u001b[1m1/1\u001b[0m \u001b[32m━━━━━━━━━━━━━━━━━━━━\u001b[0m\u001b[37m\u001b[0m \u001b[1m0s\u001b[0m 33ms/step\n",
      "\u001b[1m1/1\u001b[0m \u001b[32m━━━━━━━━━━━━━━━━━━━━\u001b[0m\u001b[37m\u001b[0m \u001b[1m0s\u001b[0m 29ms/step\n"
     ]
    }
   ],
   "source": [
    "lstm_future_predictions = []\n",
    "last_sequence = X[-1].reshape(1, seq_length, 1)\n",
    "for _ in range(10):\n",
    "    lstm_pred = lstm_model.predict(last_sequence)[0, 0]\n",
    "    lstm_future_predictions.append(lstm_pred)\n",
    "    lstm_pred_reshaped = np.array([[lstm_pred]]).reshape(1, 1, 1)\n",
    "    last_sequence = np.append(last_sequence[:, 1:, :], lstm_pred_reshaped, axis=1)\n",
    "lstm_future_predictions = scaler.inverse_transform(np.array(lstm_future_predictions).reshape(-1, 1))"
   ]
  },
  {
   "cell_type": "markdown",
   "id": "948fbc5c-fc37-44d8-bd43-fcf50d42485c",
   "metadata": {},
   "source": [
    "### Lineal"
   ]
  },
  {
   "cell_type": "code",
   "execution_count": 478,
   "id": "2eba4c74-71d1-49cf-9de1-28c37d050447",
   "metadata": {
    "scrolled": true
   },
   "outputs": [
    {
     "name": "stderr",
     "output_type": "stream",
     "text": [
      "C:\\Users\\esco1\\anaconda3\\Lib\\site-packages\\sklearn\\base.py:493: UserWarning: X does not have valid feature names, but LinearRegression was fitted with feature names\n",
      "  warnings.warn(\n",
      "C:\\Users\\esco1\\anaconda3\\Lib\\site-packages\\sklearn\\base.py:493: UserWarning: X does not have valid feature names, but LinearRegression was fitted with feature names\n",
      "  warnings.warn(\n",
      "C:\\Users\\esco1\\anaconda3\\Lib\\site-packages\\sklearn\\base.py:493: UserWarning: X does not have valid feature names, but LinearRegression was fitted with feature names\n",
      "  warnings.warn(\n",
      "C:\\Users\\esco1\\anaconda3\\Lib\\site-packages\\sklearn\\base.py:493: UserWarning: X does not have valid feature names, but LinearRegression was fitted with feature names\n",
      "  warnings.warn(\n",
      "C:\\Users\\esco1\\anaconda3\\Lib\\site-packages\\sklearn\\base.py:493: UserWarning: X does not have valid feature names, but LinearRegression was fitted with feature names\n",
      "  warnings.warn(\n",
      "C:\\Users\\esco1\\anaconda3\\Lib\\site-packages\\sklearn\\base.py:493: UserWarning: X does not have valid feature names, but LinearRegression was fitted with feature names\n",
      "  warnings.warn(\n",
      "C:\\Users\\esco1\\anaconda3\\Lib\\site-packages\\sklearn\\base.py:493: UserWarning: X does not have valid feature names, but LinearRegression was fitted with feature names\n",
      "  warnings.warn(\n",
      "C:\\Users\\esco1\\anaconda3\\Lib\\site-packages\\sklearn\\base.py:493: UserWarning: X does not have valid feature names, but LinearRegression was fitted with feature names\n",
      "  warnings.warn(\n",
      "C:\\Users\\esco1\\anaconda3\\Lib\\site-packages\\sklearn\\base.py:493: UserWarning: X does not have valid feature names, but LinearRegression was fitted with feature names\n",
      "  warnings.warn(\n",
      "C:\\Users\\esco1\\anaconda3\\Lib\\site-packages\\sklearn\\base.py:493: UserWarning: X does not have valid feature names, but LinearRegression was fitted with feature names\n",
      "  warnings.warn(\n"
     ]
    }
   ],
   "source": [
    "recent_data = data['Close'].values[-3:]\n",
    "lin_future_predictions = []\n",
    "for _ in range(10):\n",
    "    lin_pred = lin_model.predict(recent_data.reshape(1, -1))[0]\n",
    "    lin_future_predictions.append(lin_pred)\n",
    "    recent_data = np.append(recent_data[1:], lin_pred)\n",
    "lin_future_predictions = scaler.inverse_transform(np.array(lin_future_predictions).reshape(-1, 1))"
   ]
  },
  {
   "cell_type": "markdown",
   "id": "8782c042-0e10-4c57-9524-96595a8e31f6",
   "metadata": {},
   "source": [
    "### Híbrido"
   ]
  },
  {
   "cell_type": "code",
   "execution_count": 481,
   "id": "6a327928-9625-42d5-ae7f-72b108ecedbf",
   "metadata": {},
   "outputs": [],
   "source": [
    "hybrid_future_predictions = (0.7 * lstm_future_predictions) + (0.3 * lin_future_predictions)"
   ]
  },
  {
   "cell_type": "code",
   "execution_count": 483,
   "id": "d66d1cd6-bdcf-4e34-a475-ab5024717289",
   "metadata": {},
   "outputs": [
    {
     "name": "stdout",
     "output_type": "stream",
     "text": [
      "                       Date  LSTM Predictions  Linear Regression Predictions  \\\n",
      "0 2024-11-02 00:00:00+00:00        234.184692                     230.541670   \n",
      "1 2024-11-03 00:00:00+00:00        233.900101                     226.237535   \n",
      "2 2024-11-04 00:00:00+00:00        233.832062                     222.470891   \n",
      "3 2024-11-05 00:00:00+00:00        233.910873                     230.993226   \n",
      "4 2024-11-06 00:00:00+00:00        234.090027                     226.619824   \n",
      "5 2024-11-07 00:00:00+00:00        234.336365                     221.964930   \n",
      "6 2024-11-08 00:00:00+00:00        234.627533                     231.451610   \n",
      "7 2024-11-09 00:00:00+00:00        234.946976                     227.065787   \n",
      "8 2024-11-10 00:00:00+00:00        235.287033                     221.386481   \n",
      "9 2024-11-11 00:00:00+00:00        235.640427                     231.912894   \n",
      "\n",
      "   Hybrid Model Predictions  \n",
      "0                233.091777  \n",
      "1                231.601332  \n",
      "2                230.423701  \n",
      "3                233.035578  \n",
      "4                231.848969  \n",
      "5                230.624925  \n",
      "6                233.674756  \n",
      "7                232.582611  \n",
      "8                231.116872  \n",
      "9                234.522171  \n"
     ]
    }
   ],
   "source": [
    "future_dates = pd.date_range(start=data.index[-1] + pd.Timedelta(days=1), periods=10)\n",
    "predictions_df = pd.DataFrame({\n",
    "    'Date': future_dates,\n",
    "    'LSTM Predictions': lstm_future_predictions.flatten(),\n",
    "    'Linear Regression Predictions': lin_future_predictions.flatten(),\n",
    "    'Hybrid Model Predictions': hybrid_future_predictions.flatten()\n",
    "})\n",
    "print(predictions_df)"
   ]
  },
  {
   "cell_type": "code",
   "execution_count": null,
   "id": "f427556d-9f6a-4716-9ded-f2f7792c3093",
   "metadata": {},
   "outputs": [],
   "source": []
  }
 ],
 "metadata": {
  "kernelspec": {
   "display_name": "Python 3 (ipykernel)",
   "language": "python",
   "name": "python3"
  },
  "language_info": {
   "codemirror_mode": {
    "name": "ipython",
    "version": 3
   },
   "file_extension": ".py",
   "mimetype": "text/x-python",
   "name": "python",
   "nbconvert_exporter": "python",
   "pygments_lexer": "ipython3",
   "version": "3.12.3"
  }
 },
 "nbformat": 4,
 "nbformat_minor": 5
}
